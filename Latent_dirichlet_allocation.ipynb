{
 "cells": [
  {
   "cell_type": "markdown",
   "metadata": {
    "colab_type": "text",
    "id": "CpTE42bneP4i"
   },
   "source": [
    "## Step 0: Latent Dirichlet Allocation ##\n",
    "\n",
    "LDA is used to classify text in a document to a particular topic. It builds a topic per document model and words per topic model, modeled as Dirichlet distributions. \n",
    "\n",
    "* Each document is modeled as a multinomial distribution of topics and each topic is modeled as a multinomial distribution of words.\n",
    "* LDA assumes that the every chunk of text we feed into it will contain words that are somehow related. Therefore choosing the right corpus of data is crucial. \n",
    "* It also assumes documents are produced from a mixture of topics. Those topics then generate words based on their probability distribution. "
   ]
  },
  {
   "cell_type": "markdown",
   "metadata": {
    "colab_type": "text",
    "id": "9kPr1QJueP4j"
   },
   "source": [
    "## Step 1: Load the dataset\n",
    "\n",
    "The dataset we'll use is a list of over one million news headlines published over a period of 15 years. We'll start by loading it from the `abcnews-date-text.csv` file."
   ]
  },
  {
   "cell_type": "code",
   "execution_count": 0,
   "metadata": {
    "colab": {},
    "colab_type": "code",
    "collapsed": true,
    "id": "q8CcO5DUeP4k"
   },
   "outputs": [],
   "source": [
    "'''\n",
    "Load the dataset from the CSV and save it to 'data_text'\n",
    "'''\n",
    "import pandas as pd\n",
    "data = pd.read_csv('abcnews-date-text.csv', error_bad_lines=False);\n",
    "# We only need the Headlines text column from the data\n",
    "data_text = data[:300000][['headline_text']];\n",
    "data_text['index'] = data_text.index\n",
    "\n",
    "documents = data_text"
   ]
  },
  {
   "cell_type": "code",
   "execution_count": 0,
   "metadata": {
    "colab": {},
    "colab_type": "code",
    "collapsed": true,
    "id": "K8q_AYgGex3X"
   },
   "outputs": [],
   "source": []
  },
  {
   "cell_type": "markdown",
   "metadata": {
    "colab_type": "text",
    "id": "PPBu-s8CeP4p"
   },
   "source": [
    "Let's glance at the dataset:"
   ]
  },
  {
   "cell_type": "code",
   "execution_count": 6,
   "metadata": {
    "colab": {
     "base_uri": "https://localhost:8080/",
     "height": 34
    },
    "colab_type": "code",
    "id": "0wK9bg-YeP4q",
    "outputId": "1fb2ee20-9ea7-42e0-dd2b-a137fe8d7218"
   },
   "outputs": [
    {
     "name": "stdout",
     "output_type": "stream",
     "text": [
      "300000\n"
     ]
    }
   ],
   "source": [
    "'''\n",
    "Get the total number of documents\n",
    "'''\n",
    "print(len(documents))"
   ]
  },
  {
   "cell_type": "code",
   "execution_count": 0,
   "metadata": {
    "colab": {},
    "colab_type": "code",
    "id": "ovj6KmgbeP4w",
    "outputId": "eca9dcc7-d65a-484e-c6bd-38d29dca8e39"
   },
   "outputs": [
    {
     "data": {
      "text/html": [
       "<div>\n",
       "<style scoped>\n",
       "    .dataframe tbody tr th:only-of-type {\n",
       "        vertical-align: middle;\n",
       "    }\n",
       "\n",
       "    .dataframe tbody tr th {\n",
       "        vertical-align: top;\n",
       "    }\n",
       "\n",
       "    .dataframe thead th {\n",
       "        text-align: right;\n",
       "    }\n",
       "</style>\n",
       "<table border=\"1\" class=\"dataframe\">\n",
       "  <thead>\n",
       "    <tr style=\"text-align: right;\">\n",
       "      <th></th>\n",
       "      <th>headline_text</th>\n",
       "      <th>index</th>\n",
       "    </tr>\n",
       "  </thead>\n",
       "  <tbody>\n",
       "    <tr>\n",
       "      <th>0</th>\n",
       "      <td>aba decides against community broadcasting lic...</td>\n",
       "      <td>0</td>\n",
       "    </tr>\n",
       "    <tr>\n",
       "      <th>1</th>\n",
       "      <td>act fire witnesses must be aware of defamation</td>\n",
       "      <td>1</td>\n",
       "    </tr>\n",
       "    <tr>\n",
       "      <th>2</th>\n",
       "      <td>a g calls for infrastructure protection summit</td>\n",
       "      <td>2</td>\n",
       "    </tr>\n",
       "    <tr>\n",
       "      <th>3</th>\n",
       "      <td>air nz staff in aust strike for pay rise</td>\n",
       "      <td>3</td>\n",
       "    </tr>\n",
       "    <tr>\n",
       "      <th>4</th>\n",
       "      <td>air nz strike to affect australian travellers</td>\n",
       "      <td>4</td>\n",
       "    </tr>\n",
       "  </tbody>\n",
       "</table>\n",
       "</div>"
      ],
      "text/plain": [
       "                                       headline_text  index\n",
       "0  aba decides against community broadcasting lic...      0\n",
       "1     act fire witnesses must be aware of defamation      1\n",
       "2     a g calls for infrastructure protection summit      2\n",
       "3           air nz staff in aust strike for pay rise      3\n",
       "4      air nz strike to affect australian travellers      4"
      ]
     },
     "execution_count": 3,
     "metadata": {
      "tags": []
     },
     "output_type": "execute_result"
    }
   ],
   "source": [
    "documents[:5]"
   ]
  },
  {
   "cell_type": "markdown",
   "metadata": {
    "colab_type": "text",
    "id": "PyMi45XCeP41"
   },
   "source": [
    "## Step 2: Data Preprocessing ##\n",
    "\n",
    "We will perform the following steps:\n",
    "\n",
    "* **Tokenization**: Split the text into sentences and the sentences into words. Lowercase the words and remove punctuation.\n",
    "* Words that have fewer than 3 characters are removed.\n",
    "* All **stopwords** are removed.\n",
    "* Words are **lemmatized** - words in third person are changed to first person and verbs in past and future tenses are changed into present.\n",
    "* Words are **stemmed** - words are reduced to their root form.\n"
   ]
  },
  {
   "cell_type": "code",
   "execution_count": 0,
   "metadata": {
    "colab": {},
    "colab_type": "code",
    "collapsed": true,
    "id": "R8ECNwuKeP42"
   },
   "outputs": [],
   "source": [
    "'''\n",
    "Loading Gensim and nltk libraries\n",
    "'''\n",
    "# pip install gensim\n",
    "import gensim\n",
    "from gensim.utils import simple_preprocess\n",
    "from gensim.parsing.preprocessing import STOPWORDS\n",
    "from nltk.stem import WordNetLemmatizer, SnowballStemmer\n",
    "from nltk.stem.porter import *\n",
    "import numpy as np\n",
    "np.random.seed(400)"
   ]
  },
  {
   "cell_type": "code",
   "execution_count": 8,
   "metadata": {
    "colab": {
     "base_uri": "https://localhost:8080/",
     "height": 68
    },
    "colab_type": "code",
    "id": "GowCdN3AeP46",
    "outputId": "e4d7e8ab-2075-4074-b66f-f1b7bcffd37c"
   },
   "outputs": [
    {
     "name": "stdout",
     "output_type": "stream",
     "text": [
      "[nltk_data] Downloading package wordnet to /root/nltk_data...\n",
      "[nltk_data]   Unzipping corpora/wordnet.zip.\n"
     ]
    },
    {
     "data": {
      "text/plain": [
       "True"
      ]
     },
     "execution_count": 8,
     "metadata": {
      "tags": []
     },
     "output_type": "execute_result"
    }
   ],
   "source": [
    "import nltk\n",
    "nltk.download('wordnet')"
   ]
  },
  {
   "cell_type": "markdown",
   "metadata": {
    "colab_type": "text",
    "id": "T1C4Tr_UeP4_"
   },
   "source": [
    "### Lemmatizer Example\n",
    "Before preprocessing our dataset, let's first look at an lemmatizing example. What would be the output if we lemmatized the word 'went':"
   ]
  },
  {
   "cell_type": "code",
   "execution_count": 9,
   "metadata": {
    "colab": {
     "base_uri": "https://localhost:8080/",
     "height": 34
    },
    "colab_type": "code",
    "id": "aK8JTLEueP5A",
    "outputId": "db05696a-c587-4d7f-c638-de4249731637"
   },
   "outputs": [
    {
     "name": "stdout",
     "output_type": "stream",
     "text": [
      "go\n"
     ]
    }
   ],
   "source": [
    "print(WordNetLemmatizer().lemmatize('went', pos = 'v')) # past tense to present tense"
   ]
  },
  {
   "cell_type": "markdown",
   "metadata": {
    "colab_type": "text",
    "id": "SpyTgLbLeP5F"
   },
   "source": [
    "### Stemmer Example\n",
    "Let's also look at a stemming example. Let's throw a number of words at the stemmer and see how it deals with each one:"
   ]
  },
  {
   "cell_type": "code",
   "execution_count": 10,
   "metadata": {
    "colab": {
     "base_uri": "https://localhost:8080/",
     "height": 638
    },
    "colab_type": "code",
    "id": "Moshx4GteP5G",
    "outputId": "5b1fef50-ec04-4ec6-df89-944400a077b0"
   },
   "outputs": [
    {
     "data": {
      "text/html": [
       "<div>\n",
       "<style scoped>\n",
       "    .dataframe tbody tr th:only-of-type {\n",
       "        vertical-align: middle;\n",
       "    }\n",
       "\n",
       "    .dataframe tbody tr th {\n",
       "        vertical-align: top;\n",
       "    }\n",
       "\n",
       "    .dataframe thead th {\n",
       "        text-align: right;\n",
       "    }\n",
       "</style>\n",
       "<table border=\"1\" class=\"dataframe\">\n",
       "  <thead>\n",
       "    <tr style=\"text-align: right;\">\n",
       "      <th></th>\n",
       "      <th>original word</th>\n",
       "      <th>stemmed</th>\n",
       "    </tr>\n",
       "  </thead>\n",
       "  <tbody>\n",
       "    <tr>\n",
       "      <th>0</th>\n",
       "      <td>caresses</td>\n",
       "      <td>caress</td>\n",
       "    </tr>\n",
       "    <tr>\n",
       "      <th>1</th>\n",
       "      <td>flies</td>\n",
       "      <td>fli</td>\n",
       "    </tr>\n",
       "    <tr>\n",
       "      <th>2</th>\n",
       "      <td>dies</td>\n",
       "      <td>die</td>\n",
       "    </tr>\n",
       "    <tr>\n",
       "      <th>3</th>\n",
       "      <td>mules</td>\n",
       "      <td>mule</td>\n",
       "    </tr>\n",
       "    <tr>\n",
       "      <th>4</th>\n",
       "      <td>denied</td>\n",
       "      <td>deni</td>\n",
       "    </tr>\n",
       "    <tr>\n",
       "      <th>5</th>\n",
       "      <td>died</td>\n",
       "      <td>die</td>\n",
       "    </tr>\n",
       "    <tr>\n",
       "      <th>6</th>\n",
       "      <td>agreed</td>\n",
       "      <td>agre</td>\n",
       "    </tr>\n",
       "    <tr>\n",
       "      <th>7</th>\n",
       "      <td>owned</td>\n",
       "      <td>own</td>\n",
       "    </tr>\n",
       "    <tr>\n",
       "      <th>8</th>\n",
       "      <td>humbled</td>\n",
       "      <td>humbl</td>\n",
       "    </tr>\n",
       "    <tr>\n",
       "      <th>9</th>\n",
       "      <td>sized</td>\n",
       "      <td>size</td>\n",
       "    </tr>\n",
       "    <tr>\n",
       "      <th>10</th>\n",
       "      <td>meeting</td>\n",
       "      <td>meet</td>\n",
       "    </tr>\n",
       "    <tr>\n",
       "      <th>11</th>\n",
       "      <td>stating</td>\n",
       "      <td>state</td>\n",
       "    </tr>\n",
       "    <tr>\n",
       "      <th>12</th>\n",
       "      <td>siezing</td>\n",
       "      <td>siez</td>\n",
       "    </tr>\n",
       "    <tr>\n",
       "      <th>13</th>\n",
       "      <td>itemization</td>\n",
       "      <td>item</td>\n",
       "    </tr>\n",
       "    <tr>\n",
       "      <th>14</th>\n",
       "      <td>sensational</td>\n",
       "      <td>sensat</td>\n",
       "    </tr>\n",
       "    <tr>\n",
       "      <th>15</th>\n",
       "      <td>traditional</td>\n",
       "      <td>tradit</td>\n",
       "    </tr>\n",
       "    <tr>\n",
       "      <th>16</th>\n",
       "      <td>reference</td>\n",
       "      <td>refer</td>\n",
       "    </tr>\n",
       "    <tr>\n",
       "      <th>17</th>\n",
       "      <td>colonizer</td>\n",
       "      <td>colon</td>\n",
       "    </tr>\n",
       "    <tr>\n",
       "      <th>18</th>\n",
       "      <td>plotted</td>\n",
       "      <td>plot</td>\n",
       "    </tr>\n",
       "  </tbody>\n",
       "</table>\n",
       "</div>"
      ],
      "text/plain": [
       "   original word stemmed\n",
       "0       caresses  caress\n",
       "1          flies     fli\n",
       "2           dies     die\n",
       "3          mules    mule\n",
       "4         denied    deni\n",
       "5           died     die\n",
       "6         agreed    agre\n",
       "7          owned     own\n",
       "8        humbled   humbl\n",
       "9          sized    size\n",
       "10       meeting    meet\n",
       "11       stating   state\n",
       "12       siezing    siez\n",
       "13   itemization    item\n",
       "14   sensational  sensat\n",
       "15   traditional  tradit\n",
       "16     reference   refer\n",
       "17     colonizer   colon\n",
       "18       plotted    plot"
      ]
     },
     "execution_count": 10,
     "metadata": {
      "tags": []
     },
     "output_type": "execute_result"
    }
   ],
   "source": [
    "stemmer = SnowballStemmer(\"english\")\n",
    "original_words = ['caresses', 'flies', 'dies', 'mules', 'denied','died', 'agreed', 'owned', \n",
    "           'humbled', 'sized','meeting', 'stating', 'siezing', 'itemization','sensational', \n",
    "           'traditional', 'reference', 'colonizer','plotted']\n",
    "singles = [stemmer.stem(plural) for plural in original_words]\n",
    "\n",
    "pd.DataFrame(data={'original word':original_words, 'stemmed':singles })"
   ]
  },
  {
   "cell_type": "code",
   "execution_count": 0,
   "metadata": {
    "colab": {},
    "colab_type": "code",
    "collapsed": true,
    "id": "65ZAv9E-eP5K"
   },
   "outputs": [],
   "source": [
    "'''\n",
    "Write a function to perform the pre processing steps on the entire dataset\n",
    "'''\n",
    "\n",
    "def lemmatize_stemming(text):\n",
    "    return stemmer.stem(WordNetLemmatizer().lemmatize(text, pos='v'))\n",
    "\n",
    "# Tokenize and lemmatize\n",
    "def preprocess(text):\n",
    "    result=[]\n",
    "    for token in gensim.utils.simple_preprocess(text):\n",
    "        if token not in gensim.parsing.preprocessing.STOPWORDS and len(token) > 3:\n",
    "            # TODO: Apply lemmatize_stemming() on the token, then add to the results list\n",
    "            result.append(lemmatize_stemming(token))\n",
    "    return result\n",
    "\n"
   ]
  },
  {
   "cell_type": "code",
   "execution_count": 12,
   "metadata": {
    "colab": {
     "base_uri": "https://localhost:8080/",
     "height": 119
    },
    "colab_type": "code",
    "id": "n2V8qxTEeP5O",
    "outputId": "e4ec3c3a-7ab1-49c7-afd5-a702412feab4"
   },
   "outputs": [
    {
     "name": "stdout",
     "output_type": "stream",
     "text": [
      "Original document: \n",
      "['rain', 'helps', 'dampen', 'bushfires']\n",
      "\n",
      "\n",
      "Tokenized and lemmatized document: \n",
      "['rain', 'help', 'dampen', 'bushfir']\n"
     ]
    }
   ],
   "source": [
    "'''\n",
    "Preview a document after preprocessing\n",
    "'''\n",
    "document_num = 4310\n",
    "doc_sample = documents[documents['index'] == document_num].values[0][0]\n",
    "\n",
    "print(\"Original document: \")\n",
    "words = []\n",
    "for word in doc_sample.split(' '):\n",
    "    words.append(word)\n",
    "print(words)\n",
    "print(\"\\n\\nTokenized and lemmatized document: \")\n",
    "print(preprocess(doc_sample))"
   ]
  },
  {
   "cell_type": "code",
   "execution_count": 13,
   "metadata": {
    "colab": {
     "base_uri": "https://localhost:8080/",
     "height": 419
    },
    "colab_type": "code",
    "id": "bhVHHUfMeP5S",
    "outputId": "ca6c24d7-de4f-4fc3-b25d-24482a7abe57",
    "scrolled": true
   },
   "outputs": [
    {
     "data": {
      "text/html": [
       "<div>\n",
       "<style scoped>\n",
       "    .dataframe tbody tr th:only-of-type {\n",
       "        vertical-align: middle;\n",
       "    }\n",
       "\n",
       "    .dataframe tbody tr th {\n",
       "        vertical-align: top;\n",
       "    }\n",
       "\n",
       "    .dataframe thead th {\n",
       "        text-align: right;\n",
       "    }\n",
       "</style>\n",
       "<table border=\"1\" class=\"dataframe\">\n",
       "  <thead>\n",
       "    <tr style=\"text-align: right;\">\n",
       "      <th></th>\n",
       "      <th>headline_text</th>\n",
       "      <th>index</th>\n",
       "    </tr>\n",
       "  </thead>\n",
       "  <tbody>\n",
       "    <tr>\n",
       "      <th>0</th>\n",
       "      <td>aba decides against community broadcasting lic...</td>\n",
       "      <td>0</td>\n",
       "    </tr>\n",
       "    <tr>\n",
       "      <th>1</th>\n",
       "      <td>act fire witnesses must be aware of defamation</td>\n",
       "      <td>1</td>\n",
       "    </tr>\n",
       "    <tr>\n",
       "      <th>2</th>\n",
       "      <td>a g calls for infrastructure protection summit</td>\n",
       "      <td>2</td>\n",
       "    </tr>\n",
       "    <tr>\n",
       "      <th>3</th>\n",
       "      <td>air nz staff in aust strike for pay rise</td>\n",
       "      <td>3</td>\n",
       "    </tr>\n",
       "    <tr>\n",
       "      <th>4</th>\n",
       "      <td>air nz strike to affect australian travellers</td>\n",
       "      <td>4</td>\n",
       "    </tr>\n",
       "    <tr>\n",
       "      <th>...</th>\n",
       "      <td>...</td>\n",
       "      <td>...</td>\n",
       "    </tr>\n",
       "    <tr>\n",
       "      <th>299995</th>\n",
       "      <td>broughton hall audit reveals serious breaches</td>\n",
       "      <td>299995</td>\n",
       "    </tr>\n",
       "    <tr>\n",
       "      <th>299996</th>\n",
       "      <td>broughton hall fails key standards</td>\n",
       "      <td>299996</td>\n",
       "    </tr>\n",
       "    <tr>\n",
       "      <th>299997</th>\n",
       "      <td>broughton hall safe for residents govt says</td>\n",
       "      <td>299997</td>\n",
       "    </tr>\n",
       "    <tr>\n",
       "      <th>299998</th>\n",
       "      <td>burn off at conservation park aims to prevent</td>\n",
       "      <td>299998</td>\n",
       "    </tr>\n",
       "    <tr>\n",
       "      <th>299999</th>\n",
       "      <td>burns suspended for two games</td>\n",
       "      <td>299999</td>\n",
       "    </tr>\n",
       "  </tbody>\n",
       "</table>\n",
       "<p>300000 rows × 2 columns</p>\n",
       "</div>"
      ],
      "text/plain": [
       "                                            headline_text   index\n",
       "0       aba decides against community broadcasting lic...       0\n",
       "1          act fire witnesses must be aware of defamation       1\n",
       "2          a g calls for infrastructure protection summit       2\n",
       "3                air nz staff in aust strike for pay rise       3\n",
       "4           air nz strike to affect australian travellers       4\n",
       "...                                                   ...     ...\n",
       "299995      broughton hall audit reveals serious breaches  299995\n",
       "299996                 broughton hall fails key standards  299996\n",
       "299997        broughton hall safe for residents govt says  299997\n",
       "299998      burn off at conservation park aims to prevent  299998\n",
       "299999                      burns suspended for two games  299999\n",
       "\n",
       "[300000 rows x 2 columns]"
      ]
     },
     "execution_count": 13,
     "metadata": {
      "tags": []
     },
     "output_type": "execute_result"
    }
   ],
   "source": [
    "documents"
   ]
  },
  {
   "cell_type": "markdown",
   "metadata": {
    "colab_type": "text",
    "id": "sVDnSTsHeP5W"
   },
   "source": [
    "Let's now preprocess all the news headlines we have. To do that, let's use the [map](https://pandas.pydata.org/pandas-docs/stable/generated/pandas.Series.map.html) function from pandas to apply `preprocess()` to the `headline_text` column\n",
    "\n",
    "**Note**: This may take a few minutes (it take 6 minutes on my laptop)"
   ]
  },
  {
   "cell_type": "code",
   "execution_count": 0,
   "metadata": {
    "colab": {},
    "colab_type": "code",
    "collapsed": true,
    "id": "9tSEtDuIeP5X"
   },
   "outputs": [],
   "source": [
    "# TODO: preprocess all the headlines, saving the list of results as 'processed_docs'\n",
    "processed_docs = documents['headline_text'].map(preprocess)"
   ]
  },
  {
   "cell_type": "code",
   "execution_count": 15,
   "metadata": {
    "colab": {
     "base_uri": "https://localhost:8080/",
     "height": 204
    },
    "colab_type": "code",
    "id": "WN0L_WeEeP5a",
    "outputId": "da9d1b94-19e7-4887-99f1-c1d083251582"
   },
   "outputs": [
    {
     "data": {
      "text/plain": [
       "0            [decid, communiti, broadcast, licenc]\n",
       "1                               [wit, awar, defam]\n",
       "2           [call, infrastructur, protect, summit]\n",
       "3                      [staff, aust, strike, rise]\n",
       "4             [strike, affect, australian, travel]\n",
       "5               [ambiti, olsson, win, tripl, jump]\n",
       "6           [antic, delight, record, break, barca]\n",
       "7    [aussi, qualifi, stosur, wast, memphi, match]\n",
       "8            [aust, address, secur, council, iraq]\n",
       "9                         [australia, lock, timet]\n",
       "Name: headline_text, dtype: object"
      ]
     },
     "execution_count": 15,
     "metadata": {
      "tags": []
     },
     "output_type": "execute_result"
    }
   ],
   "source": [
    "'''\n",
    "Preview 'processed_docs'\n",
    "'''\n",
    "processed_docs[:10]"
   ]
  },
  {
   "cell_type": "markdown",
   "metadata": {
    "colab_type": "text",
    "id": "a2mb4VZBeP5e"
   },
   "source": [
    "## Step 3.1: Bag of words on the dataset\n",
    "\n",
    "Now let's create a dictionary from 'processed_docs' containing the number of times a word appears in the training set. To do that, let's pass `processed_docs` to [`gensim.corpora.Dictionary()`](https://radimrehurek.com/gensim/corpora/dictionary.html) and call it '`dictionary`'."
   ]
  },
  {
   "cell_type": "code",
   "execution_count": 0,
   "metadata": {
    "colab": {},
    "colab_type": "code",
    "collapsed": true,
    "id": "QtIkvO9UeP5f"
   },
   "outputs": [],
   "source": [
    "'''\n",
    "Create a dictionary from 'processed_docs' containing the number of times a word appears \n",
    "in the training set using gensim.corpora.Dictionary and call it 'dictionary'\n",
    "'''\n",
    "dictionary = gensim.corpora.Dictionary(processed_docs)"
   ]
  },
  {
   "cell_type": "code",
   "execution_count": 17,
   "metadata": {
    "colab": {
     "base_uri": "https://localhost:8080/",
     "height": 204
    },
    "colab_type": "code",
    "id": "Kz8YGpAweP5i",
    "outputId": "05e0c8b9-8d13-421b-f036-f9dab6c3634d"
   },
   "outputs": [
    {
     "name": "stdout",
     "output_type": "stream",
     "text": [
      "0 broadcast\n",
      "1 communiti\n",
      "2 decid\n",
      "3 licenc\n",
      "4 awar\n",
      "5 defam\n",
      "6 wit\n",
      "7 call\n",
      "8 infrastructur\n",
      "9 protect\n",
      "10 summit\n"
     ]
    }
   ],
   "source": [
    "'''\n",
    "Checking dictionary created\n",
    "'''\n",
    "count = 0\n",
    "for k, v in dictionary.iteritems():\n",
    "    print(k, v)\n",
    "    count += 1\n",
    "    if count > 10:\n",
    "        break"
   ]
  },
  {
   "cell_type": "markdown",
   "metadata": {
    "colab_type": "text",
    "id": "U6TTyQAfeP5m"
   },
   "source": [
    "** Gensim filter_extremes **\n",
    "\n",
    "[`filter_extremes(no_below=5, no_above=0.5, keep_n=100000)`](https://radimrehurek.com/gensim/corpora/dictionary.html#gensim.corpora.dictionary.Dictionary.filter_extremes)\n",
    "\n",
    "Filter out tokens that appear in\n",
    "\n",
    "* less than no_below documents (absolute number) or\n",
    "* more than no_above documents (fraction of total corpus size, not absolute number).\n",
    "* after (1) and (2), keep only the first keep_n most frequent tokens (or keep all if None)."
   ]
  },
  {
   "cell_type": "code",
   "execution_count": 0,
   "metadata": {
    "colab": {},
    "colab_type": "code",
    "collapsed": true,
    "id": "APoRXo-6eP5n"
   },
   "outputs": [],
   "source": [
    "'''\n",
    "OPTIONAL STEP\n",
    "Remove very rare and very common words:\n",
    "\n",
    "- words appearing less than 15 times\n",
    "- words appearing in more than 10% of all documents\n",
    "'''\n",
    "# TODO: apply dictionary.filter_extremes() with the parameters mentioned above\n",
    "dictionary.filter_extremes(no_below=5, no_above=0.5, keep_n=100000)"
   ]
  },
  {
   "cell_type": "markdown",
   "metadata": {
    "colab_type": "text",
    "id": "4_QLiNLyeP5s"
   },
   "source": [
    "** Gensim doc2bow **\n",
    "\n",
    "[`doc2bow(document)`](https://radimrehurek.com/gensim/corpora/dictionary.html#gensim.corpora.dictionary.Dictionary.doc2bow)\n",
    "\n",
    "* Convert document (a list of words) into the bag-of-words format = list of (token_id, token_count) 2-tuples. Each word is assumed to be a tokenized and normalized string (either unicode or utf8-encoded). No further preprocessing is done on the words in document; apply tokenization, stemming etc. before calling this method."
   ]
  },
  {
   "cell_type": "code",
   "execution_count": 0,
   "metadata": {
    "colab": {},
    "colab_type": "code",
    "collapsed": true,
    "id": "LwuZW_wleP5t"
   },
   "outputs": [],
   "source": [
    "'''\n",
    "Create the Bag-of-words model for each document i.e for each document we create a dictionary reporting how many\n",
    "words and how many times those words appear. Save this to 'bow_corpus'\n",
    "'''\n",
    "# TODO\n",
    "bow_corpus = [dictionary.doc2bow(doc) for doc in processed_docs]"
   ]
  },
  {
   "cell_type": "code",
   "execution_count": 20,
   "metadata": {
    "colab": {
     "base_uri": "https://localhost:8080/",
     "height": 34
    },
    "colab_type": "code",
    "id": "RgOo85-5eP5x",
    "outputId": "b48447ab-b1fd-4368-f367-583b0fbd2e11"
   },
   "outputs": [
    {
     "data": {
      "text/plain": [
       "[(76, 1), (113, 1), (482, 1), (4016, 1)]"
      ]
     },
     "execution_count": 20,
     "metadata": {
      "tags": []
     },
     "output_type": "execute_result"
    }
   ],
   "source": [
    "'''\n",
    "Checking Bag of Words corpus for our sample document --> (token_id, token_count)\n",
    "'''\n",
    "bow_corpus[document_num]"
   ]
  },
  {
   "cell_type": "code",
   "execution_count": 21,
   "metadata": {
    "colab": {
     "base_uri": "https://localhost:8080/",
     "height": 85
    },
    "colab_type": "code",
    "id": "mqLO7__KeP50",
    "outputId": "119b1c5f-ccab-4187-852d-2ee06272f867"
   },
   "outputs": [
    {
     "name": "stdout",
     "output_type": "stream",
     "text": [
      "Word 76 (\"bushfir\") appears 1 time.\n",
      "Word 113 (\"help\") appears 1 time.\n",
      "Word 482 (\"rain\") appears 1 time.\n",
      "Word 4016 (\"dampen\") appears 1 time.\n"
     ]
    }
   ],
   "source": [
    "'''\n",
    "Preview BOW for our sample preprocessed document\n",
    "'''\n",
    "# Here document_num is document number 4310 which we have checked in Step 2\n",
    "bow_doc_4310 = bow_corpus[document_num]\n",
    "\n",
    "for i in range(len(bow_doc_4310)):\n",
    "    print(\"Word {} (\\\"{}\\\") appears {} time.\".format(bow_doc_4310[i][0], \n",
    "                                                     dictionary[bow_doc_4310[i][0]], \n",
    "                                                     bow_doc_4310[i][1]))"
   ]
  },
  {
   "cell_type": "markdown",
   "metadata": {
    "colab_type": "text",
    "id": "grgR_mc6eP53"
   },
   "source": [
    "## Step 3.2: TF-IDF on our document set ##\n",
    "\n",
    "While performing TF-IDF on the corpus is not necessary for LDA implemention using the gensim model, it is recemmended. TF-IDF expects a bag-of-words (integer values) training corpus during initialization. During transformation, it will take a vector and return another vector of the same dimensionality.\n",
    "\n",
    "*Please note: The author of Gensim dictates the standard procedure for LDA to be using the Bag of Words model.*"
   ]
  },
  {
   "cell_type": "markdown",
   "metadata": {
    "colab_type": "text",
    "id": "UuxY1UuyeP54"
   },
   "source": [
    "** TF-IDF stands for \"Term Frequency, Inverse Document Frequency\".**\n",
    "\n",
    "* It is a way to score the importance of words (or \"terms\") in a document based on how frequently they appear across multiple documents.\n",
    "* If a word appears frequently in a document, it's important. Give the word a high score. But if a word appears in many documents, it's not a unique identifier. Give the word a low score.\n",
    "* Therefore, common words like \"the\" and \"for\", which appear in many documents, will be scaled down. Words that appear frequently in a single document will be scaled up.\n",
    "\n",
    "In other words:\n",
    "\n",
    "* TF(w) = `(Number of times term w appears in a document) / (Total number of terms in the document)`.\n",
    "* IDF(w) = `log_e(Total number of documents / Number of documents with term w in it)`.\n",
    "\n",
    "** For example **\n",
    "\n",
    "* Consider a document containing `100` words wherein the word 'tiger' appears 3 times. \n",
    "* The term frequency (i.e., tf) for 'tiger' is then: \n",
    "    - `TF = (3 / 100) = 0.03`. \n",
    "\n",
    "* Now, assume we have `10 million` documents and the word 'tiger' appears in `1000` of these. Then, the inverse document frequency (i.e., idf) is calculated as:\n",
    "    - `IDF = log(10,000,000 / 1,000) = 4`. \n",
    "\n",
    "* Thus, the Tf-idf weight is the product of these quantities: \n",
    "    - `TF-IDF = 0.03 * 4 = 0.12`."
   ]
  },
  {
   "cell_type": "code",
   "execution_count": 0,
   "metadata": {
    "colab": {},
    "colab_type": "code",
    "collapsed": true,
    "id": "kY7S9_HeeP54"
   },
   "outputs": [],
   "source": [
    "'''\n",
    "Create tf-idf model object using models.TfidfModel on 'bow_corpus' and save it to 'tfidf'\n",
    "'''\n",
    "from gensim import corpora, models\n",
    "\n",
    "# TODO\n",
    "tfidf = models.TfidfModel(bow_corpus)"
   ]
  },
  {
   "cell_type": "code",
   "execution_count": 0,
   "metadata": {
    "colab": {},
    "colab_type": "code",
    "collapsed": true,
    "id": "afZRDkYneP57"
   },
   "outputs": [],
   "source": [
    "'''\n",
    "Apply transformation to the entire corpus and call it 'corpus_tfidf'\n",
    "'''\n",
    "# TODO\n",
    "corpus_tfidf = tfidf[bow_corpus]"
   ]
  },
  {
   "cell_type": "code",
   "execution_count": 24,
   "metadata": {
    "colab": {
     "base_uri": "https://localhost:8080/",
     "height": 85
    },
    "colab_type": "code",
    "id": "ZM2IxI29eP5-",
    "outputId": "98ce8050-dba4-44de-f44e-c5f9c6e907ed"
   },
   "outputs": [
    {
     "name": "stdout",
     "output_type": "stream",
     "text": [
      "[(0, 0.5959813347777092),\n",
      " (1, 0.39204529549491984),\n",
      " (2, 0.48531419274988147),\n",
      " (3, 0.5055461098578569)]\n"
     ]
    }
   ],
   "source": [
    "'''\n",
    "Preview TF-IDF scores for our first document --> --> (token_id, tfidf score)\n",
    "'''\n",
    "from pprint import pprint\n",
    "for doc in corpus_tfidf:\n",
    "    pprint(doc)\n",
    "    break"
   ]
  },
  {
   "cell_type": "markdown",
   "metadata": {
    "colab_type": "text",
    "id": "hFTF_KLJeP6C"
   },
   "source": [
    "## Step 4.1: Running LDA using Bag of Words ##\n",
    "\n",
    "We are going for 10 topics in the document corpus.\n",
    "\n",
    "** We will be running LDA using all CPU cores to parallelize and speed up model training.**\n",
    "\n",
    "Some of the parameters we will be tweaking are:\n",
    "\n",
    "* **num_topics** is the number of requested latent topics to be extracted from the training corpus.\n",
    "* **id2word** is a mapping from word ids (integers) to words (strings). It is used to determine the vocabulary size, as well as for debugging and topic printing.\n",
    "* **workers** is the number of extra processes to use for parallelization. Uses all available cores by default.\n",
    "* **alpha** and **eta** are hyperparameters that affect sparsity of the document-topic (theta) and topic-word (lambda) distributions. We will let these be the default values for now(default value is `1/num_topics`)\n",
    "    - Alpha is the per document topic distribution.\n",
    "        * High alpha: Every document has a mixture of all topics(documents appear similar to each other).\n",
    "        * Low alpha: Every document has a mixture of very few topics\n",
    "\n",
    "    - Eta is the per topic word distribution.\n",
    "        * High eta: Each topic has a mixture of most words(topics appear similar to each other).\n",
    "        * Low eta: Each topic has a mixture of few words.\n",
    "\n",
    "* ** passes ** is the number of training passes through the corpus. For  example, if the training corpus has 50,000 documents, chunksize is  10,000, passes is 2, then online training is done in 10 updates: \n",
    "    * `#1 documents 0-9,999 `\n",
    "    * `#2 documents 10,000-19,999 `\n",
    "    * `#3 documents 20,000-29,999 `\n",
    "    * `#4 documents 30,000-39,999 `\n",
    "    * `#5 documents 40,000-49,999 `\n",
    "    * `#6 documents 0-9,999 `\n",
    "    * `#7 documents 10,000-19,999 `\n",
    "    * `#8 documents 20,000-29,999 `\n",
    "    * `#9 documents 30,000-39,999 `\n",
    "    * `#10 documents 40,000-49,999` "
   ]
  },
  {
   "cell_type": "code",
   "execution_count": 0,
   "metadata": {
    "colab": {},
    "colab_type": "code",
    "collapsed": true,
    "id": "GERGxJKXeP6D"
   },
   "outputs": [],
   "source": [
    "# LDA mono-core -- fallback code in case LdaMulticore throws an error on your machine\n",
    "# lda_model = gensim.models.LdaModel(bow_corpus, \n",
    "#                                    num_topics = 10, \n",
    "#                                    id2word = dictionary,                                    \n",
    "#                                    passes = 50)\n",
    "\n",
    "# LDA multicore \n",
    "'''\n",
    "Train your lda model using gensim.models.LdaMulticore and save it to 'lda_model'\n",
    "'''\n",
    "# TODO\n",
    "lda_model = gensim.models.LdaMulticore(bow_corpus, num_topics = 10, id2word = dictionary, passes = 2)"
   ]
  },
  {
   "cell_type": "code",
   "execution_count": 26,
   "metadata": {
    "colab": {
     "base_uri": "https://localhost:8080/",
     "height": 717
    },
    "colab_type": "code",
    "id": "iyHTZLHzeP6G",
    "outputId": "8e37ad5d-bd04-4920-d166-330b1bb782bb"
   },
   "outputs": [
    {
     "name": "stdout",
     "output_type": "stream",
     "text": [
      "Topic: 0.037*\"govt\" + 0.027*\"urg\" + 0.022*\"closer\" + 0.022*\"labor\" + 0.020*\"claim\" + 0.020*\"opposit\" + 0.018*\"elect\" + 0.016*\"reject\" + 0.014*\"say\" + 0.011*\"threat\" \n",
      "Words: 0\n",
      "\n",
      "\n",
      "Topic: 0.021*\"nation\" + 0.021*\"hospit\" + 0.019*\"health\" + 0.015*\"mayor\" + 0.014*\"fight\" + 0.014*\"water\" + 0.013*\"work\" + 0.013*\"hick\" + 0.013*\"rudd\" + 0.012*\"say\" \n",
      "Words: 1\n",
      "\n",
      "\n",
      "Topic: 0.029*\"crash\" + 0.029*\"kill\" + 0.029*\"iraq\" + 0.019*\"die\" + 0.017*\"blaze\" + 0.016*\"troop\" + 0.012*\"firefight\" + 0.012*\"law\" + 0.012*\"blame\" + 0.012*\"target\" \n",
      "Words: 2\n",
      "\n",
      "\n",
      "Topic: 0.015*\"indigen\" + 0.015*\"warn\" + 0.015*\"talk\" + 0.015*\"coast\" + 0.014*\"nuclear\" + 0.013*\"rain\" + 0.012*\"timor\" + 0.011*\"storm\" + 0.011*\"open\" + 0.011*\"north\" \n",
      "Words: 3\n",
      "\n",
      "\n",
      "Topic: 0.040*\"plan\" + 0.040*\"council\" + 0.036*\"water\" + 0.021*\"govt\" + 0.018*\"urg\" + 0.018*\"chang\" + 0.015*\"power\" + 0.014*\"back\" + 0.013*\"group\" + 0.012*\"resid\" \n",
      "Words: 4\n",
      "\n",
      "\n",
      "Topic: 0.022*\"forc\" + 0.019*\"concern\" + 0.018*\"sydney\" + 0.017*\"howard\" + 0.017*\"price\" + 0.016*\"high\" + 0.015*\"market\" + 0.012*\"close\" + 0.011*\"state\" + 0.011*\"sale\" \n",
      "Words: 5\n",
      "\n",
      "\n",
      "Topic: 0.019*\"lead\" + 0.019*\"rise\" + 0.017*\"australia\" + 0.016*\"world\" + 0.016*\"record\" + 0.015*\"australian\" + 0.014*\"break\" + 0.013*\"take\" + 0.013*\"england\" + 0.011*\"final\" \n",
      "Words: 6\n",
      "\n",
      "\n",
      "Topic: 0.064*\"polic\" + 0.026*\"investig\" + 0.025*\"miss\" + 0.022*\"death\" + 0.019*\"continu\" + 0.017*\"search\" + 0.014*\"probe\" + 0.013*\"victim\" + 0.012*\"trial\" + 0.012*\"lose\" \n",
      "Words: 7\n",
      "\n",
      "\n",
      "Topic: 0.031*\"fund\" + 0.026*\"govt\" + 0.018*\"school\" + 0.013*\"deal\" + 0.013*\"protest\" + 0.013*\"worker\" + 0.012*\"feder\" + 0.011*\"plan\" + 0.011*\"support\" + 0.010*\"help\" \n",
      "Words: 8\n",
      "\n",
      "\n",
      "Topic: 0.037*\"charg\" + 0.032*\"court\" + 0.030*\"face\" + 0.028*\"polic\" + 0.022*\"jail\" + 0.019*\"murder\" + 0.019*\"drug\" + 0.016*\"accus\" + 0.014*\"arrest\" + 0.014*\"case\" \n",
      "Words: 9\n",
      "\n",
      "\n"
     ]
    }
   ],
   "source": [
    "'''\n",
    "For each topic, we will explore the words occuring in that topic and its relative weight\n",
    "'''\n",
    "for idx, topic in lda_model.print_topics(-1):\n",
    "    print(\"Topic: {} \\nWords: {}\".format(topic, idx ))\n",
    "    print(\"\\n\")"
   ]
  },
  {
   "cell_type": "markdown",
   "metadata": {
    "colab_type": "text",
    "id": "-MuDyNpyeP6K"
   },
   "source": [
    "### Classification of the topics ###\n",
    "\n",
    "Using the words in each topic and their corresponding weights, what categories were you able to infer?\n",
    "\n",
    "* 0: \n",
    "* 1: \n",
    "* 2: \n",
    "* 3: \n",
    "* 4: \n",
    "* 5: \n",
    "* 6: \n",
    "* 7:  \n",
    "* 8: \n",
    "* 9: "
   ]
  },
  {
   "cell_type": "markdown",
   "metadata": {
    "colab_type": "text",
    "id": "hEW3q3tHeP6L"
   },
   "source": [
    "## Step 4.2 Running LDA using TF-IDF ##"
   ]
  },
  {
   "cell_type": "code",
   "execution_count": 0,
   "metadata": {
    "colab": {},
    "colab_type": "code",
    "collapsed": true,
    "id": "g2TuVyXOeP6L"
   },
   "outputs": [],
   "source": [
    "'''\n",
    "Define lda model using corpus_tfidf, again using gensim.models.LdaMulticore()\n",
    "'''\n",
    "# TODO\n",
    "lda_model_tfidf = gensim.models.LdaMulticore(corpus_tfidf, num_topics = 10, id2word = dictionary, passes = 50, workers=4)"
   ]
  },
  {
   "cell_type": "code",
   "execution_count": 28,
   "metadata": {
    "colab": {
     "base_uri": "https://localhost:8080/",
     "height": 547
    },
    "colab_type": "code",
    "id": "ci8VaELIeP6O",
    "outputId": "baf9d2b5-e85d-4c71-a9a6-8f09f5af9f32"
   },
   "outputs": [
    {
     "name": "stdout",
     "output_type": "stream",
     "text": [
      "Topic: 0 Word: 0.009*\"final\" + 0.008*\"rudd\" + 0.008*\"lead\" + 0.008*\"tiger\" + 0.007*\"open\" + 0.007*\"titl\" + 0.006*\"victori\" + 0.006*\"aussi\" + 0.005*\"win\" + 0.005*\"fiji\"\n",
      "\n",
      "\n",
      "Topic: 1 Word: 0.005*\"kangaroo\" + 0.005*\"long\" + 0.005*\"cancer\" + 0.005*\"plant\" + 0.005*\"croc\" + 0.005*\"gunman\" + 0.005*\"import\" + 0.004*\"term\" + 0.004*\"hall\" + 0.004*\"sailor\"\n",
      "\n",
      "\n",
      "Topic: 2 Word: 0.022*\"polic\" + 0.018*\"crash\" + 0.017*\"kill\" + 0.014*\"charg\" + 0.012*\"miss\" + 0.011*\"murder\" + 0.011*\"death\" + 0.011*\"investig\" + 0.010*\"search\" + 0.010*\"woman\"\n",
      "\n",
      "\n",
      "Topic: 3 Word: 0.013*\"govt\" + 0.009*\"health\" + 0.008*\"urg\" + 0.008*\"fund\" + 0.008*\"water\" + 0.008*\"plan\" + 0.006*\"council\" + 0.006*\"indigen\" + 0.006*\"opposit\" + 0.006*\"union\"\n",
      "\n",
      "\n",
      "Topic: 4 Word: 0.007*\"tsunami\" + 0.006*\"thousand\" + 0.006*\"chase\" + 0.005*\"alic\" + 0.005*\"quak\" + 0.004*\"polic\" + 0.004*\"farewel\" + 0.004*\"iraq\" + 0.004*\"leak\" + 0.004*\"memori\"\n",
      "\n",
      "\n",
      "Topic: 5 Word: 0.033*\"closer\" + 0.009*\"troop\" + 0.007*\"israel\" + 0.007*\"iraq\" + 0.007*\"bird\" + 0.007*\"palestinian\" + 0.006*\"isra\" + 0.006*\"whale\" + 0.006*\"lebanon\" + 0.005*\"black\"\n",
      "\n",
      "\n",
      "Topic: 6 Word: 0.011*\"assault\" + 0.011*\"nuclear\" + 0.011*\"market\" + 0.006*\"profit\" + 0.006*\"govern\" + 0.006*\"bail\" + 0.006*\"iran\" + 0.006*\"climat\" + 0.006*\"uranium\" + 0.005*\"korea\"\n",
      "\n",
      "\n",
      "Topic: 7 Word: 0.007*\"test\" + 0.006*\"beach\" + 0.006*\"port\" + 0.006*\"australia\" + 0.005*\"coal\" + 0.005*\"england\" + 0.005*\"wit\" + 0.005*\"world\" + 0.005*\"ash\" + 0.005*\"surgeri\"\n",
      "\n",
      "\n",
      "Topic: 8 Word: 0.009*\"council\" + 0.008*\"drought\" + 0.007*\"govt\" + 0.007*\"farmer\" + 0.007*\"plan\" + 0.006*\"rain\" + 0.006*\"farm\" + 0.006*\"rise\" + 0.005*\"labor\" + 0.005*\"price\"\n",
      "\n",
      "\n",
      "Topic: 9 Word: 0.007*\"plan\" + 0.007*\"govt\" + 0.006*\"council\" + 0.006*\"councillor\" + 0.006*\"scheme\" + 0.006*\"water\" + 0.005*\"speed\" + 0.005*\"job\" + 0.005*\"doubt\" + 0.005*\"upgrad\"\n",
      "\n",
      "\n"
     ]
    }
   ],
   "source": [
    "'''\n",
    "For each topic, we will explore the words occuring in that topic and its relative weight\n",
    "'''\n",
    "for idx, topic in lda_model_tfidf.print_topics(-1):\n",
    "    print(\"Topic: {} Word: {}\".format(idx, topic))\n",
    "    print(\"\\n\")"
   ]
  },
  {
   "cell_type": "markdown",
   "metadata": {
    "colab_type": "text",
    "id": "RjL8B6sreP6S"
   },
   "source": [
    "### Classification of the topics ###\n",
    "\n",
    "As we can see, when using tf-idf, heavier weights are given to words that are not as frequent which results in nouns being factored in. That makes it harder to figure out the categories as nouns can be hard to categorize. This goes to show that the models we apply depend on the type of corpus of text we are dealing with. \n",
    "\n",
    "Using the words in each topic and their corresponding weights, what categories could you find?\n",
    "\n",
    "* 0: \n",
    "* 1:  \n",
    "* 2: \n",
    "* 3: \n",
    "* 4:  \n",
    "* 5: \n",
    "* 6: \n",
    "* 7: \n",
    "* 8: \n",
    "* 9: "
   ]
  },
  {
   "cell_type": "markdown",
   "metadata": {
    "colab_type": "text",
    "id": "oh3mFqGbeP6S"
   },
   "source": [
    "## Step 5.1: Performance evaluation by classifying sample document using LDA Bag of Words model##\n",
    "\n",
    "We will check to see where our test document would be classified. "
   ]
  },
  {
   "cell_type": "code",
   "execution_count": 29,
   "metadata": {
    "colab": {
     "base_uri": "https://localhost:8080/",
     "height": 34
    },
    "colab_type": "code",
    "id": "ZcrDLDo9eP6T",
    "outputId": "238d0b8e-416d-4c1e-e586-43e0c83e95c6"
   },
   "outputs": [
    {
     "data": {
      "text/plain": [
       "['rain', 'help', 'dampen', 'bushfir']"
      ]
     },
     "execution_count": 29,
     "metadata": {
      "tags": []
     },
     "output_type": "execute_result"
    }
   ],
   "source": [
    "'''\n",
    "Text of sample document 4310\n",
    "'''\n",
    "processed_docs[4310]"
   ]
  },
  {
   "cell_type": "code",
   "execution_count": 30,
   "metadata": {
    "colab": {
     "base_uri": "https://localhost:8080/",
     "height": 547
    },
    "colab_type": "code",
    "id": "1JN1L0ECeP6W",
    "outputId": "e840afca-1c54-4b73-a844-cc263964433c"
   },
   "outputs": [
    {
     "name": "stdout",
     "output_type": "stream",
     "text": [
      "\n",
      "Score: 0.4024190604686737\t \n",
      "Topic: 0.015*\"indigen\" + 0.015*\"warn\" + 0.015*\"talk\" + 0.015*\"coast\" + 0.014*\"nuclear\" + 0.013*\"rain\" + 0.012*\"timor\" + 0.011*\"storm\" + 0.011*\"open\" + 0.011*\"north\"\n",
      "\n",
      "Score: 0.23755750060081482\t \n",
      "Topic: 0.022*\"forc\" + 0.019*\"concern\" + 0.018*\"sydney\" + 0.017*\"howard\" + 0.017*\"price\" + 0.016*\"high\" + 0.015*\"market\" + 0.012*\"close\" + 0.011*\"state\" + 0.011*\"sale\"\n",
      "\n",
      "Score: 0.2200000286102295\t \n",
      "Topic: 0.064*\"polic\" + 0.026*\"investig\" + 0.025*\"miss\" + 0.022*\"death\" + 0.019*\"continu\" + 0.017*\"search\" + 0.014*\"probe\" + 0.013*\"victim\" + 0.012*\"trial\" + 0.012*\"lose\"\n",
      "\n",
      "Score: 0.020012419670820236\t \n",
      "Topic: 0.031*\"fund\" + 0.026*\"govt\" + 0.018*\"school\" + 0.013*\"deal\" + 0.013*\"protest\" + 0.013*\"worker\" + 0.012*\"feder\" + 0.011*\"plan\" + 0.011*\"support\" + 0.010*\"help\"\n",
      "\n",
      "Score: 0.020006949082016945\t \n",
      "Topic: 0.040*\"plan\" + 0.040*\"council\" + 0.036*\"water\" + 0.021*\"govt\" + 0.018*\"urg\" + 0.018*\"chang\" + 0.015*\"power\" + 0.014*\"back\" + 0.013*\"group\" + 0.012*\"resid\"\n",
      "\n",
      "Score: 0.020003993064165115\t \n",
      "Topic: 0.021*\"nation\" + 0.021*\"hospit\" + 0.019*\"health\" + 0.015*\"mayor\" + 0.014*\"fight\" + 0.014*\"water\" + 0.013*\"work\" + 0.013*\"hick\" + 0.013*\"rudd\" + 0.012*\"say\"\n",
      "\n",
      "Score: 0.020000014454126358\t \n",
      "Topic: 0.037*\"charg\" + 0.032*\"court\" + 0.030*\"face\" + 0.028*\"polic\" + 0.022*\"jail\" + 0.019*\"murder\" + 0.019*\"drug\" + 0.016*\"accus\" + 0.014*\"arrest\" + 0.014*\"case\"\n",
      "\n",
      "Score: 0.019999997690320015\t \n",
      "Topic: 0.037*\"govt\" + 0.027*\"urg\" + 0.022*\"closer\" + 0.022*\"labor\" + 0.020*\"claim\" + 0.020*\"opposit\" + 0.018*\"elect\" + 0.016*\"reject\" + 0.014*\"say\" + 0.011*\"threat\"\n",
      "\n",
      "Score: 0.019999997690320015\t \n",
      "Topic: 0.029*\"crash\" + 0.029*\"kill\" + 0.029*\"iraq\" + 0.019*\"die\" + 0.017*\"blaze\" + 0.016*\"troop\" + 0.012*\"firefight\" + 0.012*\"law\" + 0.012*\"blame\" + 0.012*\"target\"\n",
      "\n",
      "Score: 0.019999997690320015\t \n",
      "Topic: 0.019*\"lead\" + 0.019*\"rise\" + 0.017*\"australia\" + 0.016*\"world\" + 0.016*\"record\" + 0.015*\"australian\" + 0.014*\"break\" + 0.013*\"take\" + 0.013*\"england\" + 0.011*\"final\"\n"
     ]
    }
   ],
   "source": [
    "'''\n",
    "Check which topic our test document belongs to using the LDA Bag of Words model.\n",
    "'''\n",
    "document_num = 4310\n",
    "# Our test document is document number 4310\n",
    "\n",
    "# TODO\n",
    "# Our test document is document number 4310\n",
    "for index, score in sorted(lda_model[bow_corpus[document_num]], key=lambda tup: -1*tup[1]):\n",
    "    print(\"\\nScore: {}\\t \\nTopic: {}\".format(score, lda_model.print_topic(index, 10)))"
   ]
  },
  {
   "cell_type": "markdown",
   "metadata": {
    "colab_type": "text",
    "id": "euYaHR7CeP6a"
   },
   "source": [
    "### It has the highest probability (`x`) to be  part of the topic that we assigned as X, which is the accurate classification. ###"
   ]
  },
  {
   "cell_type": "markdown",
   "metadata": {
    "colab_type": "text",
    "id": "X_Qmuxl-eP6a"
   },
   "source": [
    "## Step 5.2: Performance evaluation by classifying sample document using LDA TF-IDF model##"
   ]
  },
  {
   "cell_type": "code",
   "execution_count": 31,
   "metadata": {
    "colab": {
     "base_uri": "https://localhost:8080/",
     "height": 547
    },
    "colab_type": "code",
    "id": "BfYWcJuXeP6b",
    "outputId": "d3593991-f24f-4949-de5f-5167338268a9"
   },
   "outputs": [
    {
     "name": "stdout",
     "output_type": "stream",
     "text": [
      "\n",
      "Score: 0.8199618458747864\t \n",
      "Topic: 0.013*\"govt\" + 0.009*\"health\" + 0.008*\"urg\" + 0.008*\"fund\" + 0.008*\"water\" + 0.008*\"plan\" + 0.006*\"council\" + 0.006*\"indigen\" + 0.006*\"opposit\" + 0.006*\"union\"\n",
      "\n",
      "Score: 0.020027991384267807\t \n",
      "Topic: 0.009*\"council\" + 0.008*\"drought\" + 0.007*\"govt\" + 0.007*\"farmer\" + 0.007*\"plan\" + 0.006*\"rain\" + 0.006*\"farm\" + 0.006*\"rise\" + 0.005*\"labor\" + 0.005*\"price\"\n",
      "\n",
      "Score: 0.02000275067985058\t \n",
      "Topic: 0.007*\"test\" + 0.006*\"beach\" + 0.006*\"port\" + 0.006*\"australia\" + 0.005*\"coal\" + 0.005*\"england\" + 0.005*\"wit\" + 0.005*\"world\" + 0.005*\"ash\" + 0.005*\"surgeri\"\n",
      "\n",
      "Score: 0.020002000033855438\t \n",
      "Topic: 0.009*\"final\" + 0.008*\"rudd\" + 0.008*\"lead\" + 0.008*\"tiger\" + 0.007*\"open\" + 0.007*\"titl\" + 0.006*\"victori\" + 0.006*\"aussi\" + 0.005*\"win\" + 0.005*\"fiji\"\n",
      "\n",
      "Score: 0.02000175043940544\t \n",
      "Topic: 0.022*\"polic\" + 0.018*\"crash\" + 0.017*\"kill\" + 0.014*\"charg\" + 0.012*\"miss\" + 0.011*\"murder\" + 0.011*\"death\" + 0.011*\"investig\" + 0.010*\"search\" + 0.010*\"woman\"\n",
      "\n",
      "Score: 0.020001070573925972\t \n",
      "Topic: 0.007*\"tsunami\" + 0.006*\"thousand\" + 0.006*\"chase\" + 0.005*\"alic\" + 0.005*\"quak\" + 0.004*\"polic\" + 0.004*\"farewel\" + 0.004*\"iraq\" + 0.004*\"leak\" + 0.004*\"memori\"\n",
      "\n",
      "Score: 0.02000104822218418\t \n",
      "Topic: 0.033*\"closer\" + 0.009*\"troop\" + 0.007*\"israel\" + 0.007*\"iraq\" + 0.007*\"bird\" + 0.007*\"palestinian\" + 0.006*\"isra\" + 0.006*\"whale\" + 0.006*\"lebanon\" + 0.005*\"black\"\n",
      "\n",
      "Score: 0.020000573247671127\t \n",
      "Topic: 0.005*\"kangaroo\" + 0.005*\"long\" + 0.005*\"cancer\" + 0.005*\"plant\" + 0.005*\"croc\" + 0.005*\"gunman\" + 0.005*\"import\" + 0.004*\"term\" + 0.004*\"hall\" + 0.004*\"sailor\"\n",
      "\n",
      "Score: 0.020000528544187546\t \n",
      "Topic: 0.007*\"plan\" + 0.007*\"govt\" + 0.006*\"council\" + 0.006*\"councillor\" + 0.006*\"scheme\" + 0.006*\"water\" + 0.005*\"speed\" + 0.005*\"job\" + 0.005*\"doubt\" + 0.005*\"upgrad\"\n",
      "\n",
      "Score: 0.02000044286251068\t \n",
      "Topic: 0.011*\"assault\" + 0.011*\"nuclear\" + 0.011*\"market\" + 0.006*\"profit\" + 0.006*\"govern\" + 0.006*\"bail\" + 0.006*\"iran\" + 0.006*\"climat\" + 0.006*\"uranium\" + 0.005*\"korea\"\n"
     ]
    }
   ],
   "source": [
    "'''\n",
    "Check which topic our test document belongs to using the LDA TF-IDF model.\n",
    "'''\n",
    "# Our test document is document number 4310\n",
    "for index, score in sorted(lda_model_tfidf[bow_corpus[document_num]], key=lambda tup: -1*tup[1]):\n",
    "    print(\"\\nScore: {}\\t \\nTopic: {}\".format(score, lda_model_tfidf.print_topic(index, 10)))"
   ]
  },
  {
   "cell_type": "markdown",
   "metadata": {
    "colab_type": "text",
    "id": "daqocpwSeP6e"
   },
   "source": [
    "### It has the highest probability (`x%`) to be  part of the topic that we assigned as X. ###"
   ]
  },
  {
   "cell_type": "markdown",
   "metadata": {
    "colab_type": "text",
    "id": "rdLPfxtjeP6f"
   },
   "source": [
    "## Step 6: Testing model on unseen document ##"
   ]
  },
  {
   "cell_type": "code",
   "execution_count": 33,
   "metadata": {
    "colab": {
     "base_uri": "https://localhost:8080/",
     "height": 207
    },
    "colab_type": "code",
    "id": "acsFxn6YeP6g",
    "outputId": "f9bc438a-9cf9-4efd-e0d9-3722f05e7f41"
   },
   "outputs": [
    {
     "name": "stdout",
     "output_type": "stream",
     "text": [
      "Score: 0.27500006556510925\t Topic: 0.021*\"nation\" + 0.021*\"hospit\" + 0.019*\"health\" + 0.015*\"mayor\" + 0.014*\"fight\"\n",
      "Score: 0.2749999761581421\t Topic: 0.022*\"forc\" + 0.019*\"concern\" + 0.018*\"sydney\" + 0.017*\"howard\" + 0.017*\"price\"\n",
      "Score: 0.2749999761581421\t Topic: 0.019*\"lead\" + 0.019*\"rise\" + 0.017*\"australia\" + 0.016*\"world\" + 0.016*\"record\"\n",
      "Score: 0.025000009685754776\t Topic: 0.037*\"govt\" + 0.027*\"urg\" + 0.022*\"closer\" + 0.022*\"labor\" + 0.020*\"claim\"\n",
      "Score: 0.02500000037252903\t Topic: 0.029*\"crash\" + 0.029*\"kill\" + 0.029*\"iraq\" + 0.019*\"die\" + 0.017*\"blaze\"\n",
      "Score: 0.02500000037252903\t Topic: 0.015*\"indigen\" + 0.015*\"warn\" + 0.015*\"talk\" + 0.015*\"coast\" + 0.014*\"nuclear\"\n",
      "Score: 0.02500000037252903\t Topic: 0.040*\"plan\" + 0.040*\"council\" + 0.036*\"water\" + 0.021*\"govt\" + 0.018*\"urg\"\n",
      "Score: 0.02500000037252903\t Topic: 0.064*\"polic\" + 0.026*\"investig\" + 0.025*\"miss\" + 0.022*\"death\" + 0.019*\"continu\"\n",
      "Score: 0.02500000037252903\t Topic: 0.031*\"fund\" + 0.026*\"govt\" + 0.018*\"school\" + 0.013*\"deal\" + 0.013*\"protest\"\n",
      "Score: 0.02500000037252903\t Topic: 0.037*\"charg\" + 0.032*\"court\" + 0.030*\"face\" + 0.028*\"polic\" + 0.022*\"jail\"\n"
     ]
    }
   ],
   "source": [
    "unseen_document = \"Cricket is a national game\"\n",
    "\n",
    "# Data preprocessing step for the unseen document\n",
    "bow_vector = dictionary.doc2bow(preprocess(unseen_document))\n",
    "\n",
    "for index, score in sorted(lda_model[bow_vector], key=lambda tup: -1*tup[1]):\n",
    "    print(\"Score: {}\\t Topic: {}\".format(score, lda_model.print_topic(index, 5)))"
   ]
  },
  {
   "cell_type": "markdown",
   "metadata": {
    "colab_type": "text",
    "id": "W6ZidP1FeP6j"
   },
   "source": [
    "The model correctly classifies the unseen document with 'x'% probability to the X category."
   ]
  }
 ],
 "metadata": {
  "accelerator": "GPU",
  "colab": {
   "name": "Latent_dirichlet_allocation.ipynb",
   "provenance": [],
   "toc_visible": true
  },
  "kernelspec": {
   "display_name": "Python 3",
   "language": "python",
   "name": "python3"
  },
  "language_info": {
   "codemirror_mode": {
    "name": "ipython",
    "version": 3
   },
   "file_extension": ".py",
   "mimetype": "text/x-python",
   "name": "python",
   "nbconvert_exporter": "python",
   "pygments_lexer": "ipython3",
   "version": "3.6.1"
  }
 },
 "nbformat": 4,
 "nbformat_minor": 1
}
